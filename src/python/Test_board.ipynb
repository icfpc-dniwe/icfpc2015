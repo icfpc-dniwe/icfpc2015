{
 "cells": [
  {
   "cell_type": "code",
   "execution_count": 56,
   "metadata": {
    "collapsed": false
   },
   "outputs": [
    {
     "name": "stdout",
     "output_type": "stream",
     "text": [
      "The autoreload extension is already loaded. To reload it, use:\n",
      "  %reload_ext autoreload\n"
     ]
    }
   ],
   "source": [
    "import numpy as np\n",
    "\n",
    "from aux.web import *\n",
    "from aux.input import *\n",
    "from aux.output import *\n",
    "from common.tools import *\n",
    "from common.rng import *\n",
    "from game.solution import get_solution\n",
    "\n",
    "%load_ext autoreload\n",
    "%autoreload 2"
   ]
  },
  {
   "cell_type": "code",
   "execution_count": 140,
   "metadata": {
    "collapsed": false
   },
   "outputs": [],
   "source": [
    "problem_id = 0\n",
    "tag = 'T'\n",
    "\n",
    "problem, seeds = parse_problem(load_problem(problem_id))"
   ]
  },
  {
   "cell_type": "code",
   "execution_count": 147,
   "metadata": {
    "collapsed": false
   },
   "outputs": [
    {
     "name": "stdout",
     "output_type": "stream",
     "text": [
      "Generating on depth 1\n",
      "LM: None\n",
      "  Creating move with dir: 20 [1, 2, 0, 3]\n",
      "  Creating move with dir: 20 [0, 3, 1, 2]\n",
      "  Creating move with dir: 10 [3, 2, 3, 2]\n",
      "  Creating move with dir: 10 [2, 3, 2, 3]\n",
      "Score: 1.0\n",
      "Directions: [1, 2, 0, 3]\n",
      "Generating on depth 1\n",
      "LM: 3\n",
      "  Creating move with dir: 18 [1, 2, 0, 3]\n",
      "  Creating move with dir: 17 [0, 3, 1, 2]\n",
      "  Creating move with dir: 9 [3, 2, 3, 2]\n",
      "  Creating move with dir: 9 [2, 3, 2, 3]\n",
      "Score: 2.0\n",
      "Directions: [3, 2, 3, 2]\n",
      "Generating on depth 1\n",
      "LM: 3\n",
      "  Creating move with dir: 12 [1, 2, 0, 3]\n",
      "  Creating move with dir: 12 [0, 3, 1, 2]\n",
      "  Creating move with dir: 6 [3, 2, 3, 2]\n",
      "  Creating move with dir: 6 [2, 3, 2, 3]\n",
      "Score: 5.0\n",
      "Directions: [1, 2, 0, 3]\n",
      "Generating on depth 1\n",
      "LM: 3\n",
      "  Creating move with dir: 11 [1, 2, 0, 3]\n",
      "  Creating move with dir: 9 [0, 3, 1, 2]\n",
      "  Creating move with dir: 7 [3, 2, 3, 2]\n",
      "  Creating move with dir: 5 [2, 3, 2, 3]\n",
      "Score: 8.0\n",
      "Directions: [3, 2, 3, 2]\n",
      "Generating on depth 1\n",
      "LM: 3\n",
      "  Creating move with dir: 7 [1, 2, 0, 3]\n",
      "  Creating move with dir: 6 [0, 3, 1, 2]\n",
      "  Creating move with dir: 4 [3, 2, 3, 2]\n",
      "  Creating move with dir: 3 [2, 3, 2]\n",
      "Score: 11.0\n",
      "Directions: [1, 2, 0, 3]\n",
      "Generating on depth 1\n",
      "LM: 0\n",
      "  Creating move with dir: 9 [1, 2, 0, 3]\n",
      "  Creating move with dir: 12 [0, 3, 1, 2]\n",
      "  Creating move with dir: 6 [3, 2, 3, 2]\n",
      "  Creating move with dir: 6 [2, 3, 2, 3]\n",
      "Score: 13.0\n",
      "Directions: [3, 2, 3, 2]\n",
      "Generating on depth 1\n",
      "LM: 2\n",
      "  Creating move with dir: 5 [1, 2, 0, 3]\n",
      "  Creating move with dir: 6 [0, 3, 1, 2]\n",
      "  Creating move with dir: 3 [3, 2, 3]\n",
      "  Creating move with dir: 3 [2, 3, 2]\n",
      "Score: 15.0\n",
      "Directions: [1, 2, 0, 3]\n",
      "Generating on depth 1\n",
      "LM: 1\n",
      "  Creating move with dir: 7 [1, 2, 0, 3]\n",
      "  Creating move with dir: 6 [0, 3, 1, 2]\n",
      "  Creating move with dir: 4 [3, 2, 3, 2]\n",
      "  Creating move with dir: 3 [2, 3, 2]\n",
      "Score: 17.0\n",
      "Directions: [3, 2, 3, 2]\n",
      "Generating on depth 1\n",
      "LM: 2\n",
      "[1, 2, 0, 3, 1, 2, 0, 3, 1, 2, 0, 3, 1, 2, 0, 3, 1, 2, 0, 3, 3, 2, 3, 2, 3, 2, 3, 2, 3, 1, 2, 0, 3, 1, 2, 0, 3, 1, 2, 0, 3, 3, 2, 3, 2, 3, 2, 3, 1, 2, 0, 3, 1, 2, 0, 3, 2, 3, 2, 3, 2, 1, 2, 0, 3, 1, 3, 2, 3, 2]\n",
      "[{\"seed\": 0, \"tag\": \"T\", \"problemId\": 0, \"solution\": \"baplbaplbaplbaplbapllalalalalbaplbaplbapllalalalbaplbaplalalabaplblala\"}]\n"
     ]
    }
   ],
   "source": [
    "solutions = []\n",
    "for seed in seeds:\n",
    "    commands = get_solution(problem, seed, '')\n",
    "    solutions += [output_solution(problem_id, seed, commands, tag)]\n",
    "s = combine_solutions(solutions)\n",
    "print(s)"
   ]
  },
  {
   "cell_type": "code",
   "execution_count": 148,
   "metadata": {
    "collapsed": false
   },
   "outputs": [
    {
     "name": "stdout",
     "output_type": "stream",
     "text": [
      "Generating on depth 1\n",
      "LM: None\n",
      "  Creating move with dir: 20 [1, 2, 0, 3]\n",
      "  Creating move with dir: 20 [0, 3, 1, 2]\n",
      "  Creating move with dir: 10 [3, 2, 3, 2]\n",
      "  Creating move with dir: 10 [2, 3, 2, 3]\n",
      "Score: 1.0\n",
      "Directions: [1, 2, 0, 3]\n",
      "Generating on depth 1\n",
      "LM: 3\n",
      "  Creating move with dir: 18 [1, 2, 0, 3]\n",
      "  Creating move with dir: 17 [0, 3, 1, 2]\n",
      "  Creating move with dir: 9 [3, 2, 3, 2]\n",
      "  Creating move with dir: 9 [2, 3, 2, 3]\n",
      "Score: 2.0\n",
      "Directions: [3, 2, 3, 2]\n",
      "Generating on depth 1\n",
      "LM: 3\n",
      "  Creating move with dir: 12 [1, 2, 0, 3]\n",
      "  Creating move with dir: 12 [0, 3, 1, 2]\n",
      "  Creating move with dir: 6 [3, 2, 3, 2]\n",
      "  Creating move with dir: 6 [2, 3, 2, 3]\n",
      "Score: 5.0\n",
      "Directions: [1, 2, 0, 3]\n",
      "Generating on depth 1\n",
      "LM: 3\n",
      "  Creating move with dir: 11 [1, 2, 0, 3]\n",
      "  Creating move with dir: 9 [0, 3, 1, 2]\n",
      "  Creating move with dir: 7 [3, 2, 3, 2]\n",
      "  Creating move with dir: 5 [2, 3, 2, 3]\n",
      "Score: 8.0\n",
      "Directions: [3, 2, 3, 2]\n",
      "Generating on depth 1\n",
      "LM: 3\n",
      "  Creating move with dir: 7 [1, 2, 0, 3]\n",
      "  Creating move with dir: 6 [0, 3, 1, 2]\n",
      "  Creating move with dir: 4 [3, 2, 3, 2]\n",
      "  Creating move with dir: 3 [2, 3, 2]\n",
      "Score: 11.0\n",
      "Directions: [1, 2, 0, 3]\n",
      "Generating on depth 1\n",
      "LM: 0\n",
      "  Creating move with dir: 9 [1, 2, 0, 3]\n",
      "  Creating move with dir: 12 [0, 3, 1, 2]\n",
      "  Creating move with dir: 6 [3, 2, 3, 2]\n",
      "  Creating move with dir: 6 [2, 3, 2, 3]\n",
      "Score: 13.0\n",
      "Directions: [3, 2, 3, 2]\n",
      "Generating on depth 1\n",
      "LM: 2\n",
      "  Creating move with dir: 5 [1, 2, 0, 3]\n",
      "  Creating move with dir: 6 [0, 3, 1, 2]\n",
      "  Creating move with dir: 3 [3, 2, 3]\n",
      "  Creating move with dir: 3 [2, 3, 2]\n",
      "Score: 15.0\n",
      "Directions: [1, 2, 0, 3]\n",
      "Generating on depth 1\n",
      "LM: 1\n",
      "  Creating move with dir: 7 [1, 2, 0, 3]\n",
      "  Creating move with dir: 6 [0, 3, 1, 2]\n",
      "  Creating move with dir: 4 [3, 2, 3, 2]\n",
      "  Creating move with dir: 3 [2, 3, 2]\n",
      "Score: 17.0\n",
      "Directions: [3, 2, 3, 2]\n",
      "Generating on depth 1\n",
      "LM: 2\n"
     ]
    }
   ],
   "source": [
    "seed = 0\n",
    "commands = get_solution(problem, seed, '')"
   ]
  },
  {
   "cell_type": "code",
   "execution_count": 149,
   "metadata": {
    "collapsed": true
   },
   "outputs": [],
   "source": [
    "upload_solution(s)"
   ]
  },
  {
   "cell_type": "code",
   "execution_count": 150,
   "metadata": {
    "collapsed": true
   },
   "outputs": [],
   "source": [
    "with open('../../submissions/0_T.json', 'w') as f:\n",
    "    f.write(s)"
   ]
  },
  {
   "cell_type": "code",
   "execution_count": 151,
   "metadata": {
    "collapsed": false
   },
   "outputs": [
    {
     "name": "stdout",
     "output_type": "stream",
     "text": [
      "70\n",
      "[1, 2, 0, 3, 1, 2, 0, 3, 1, 2, 0, 3, 1, 2, 0, 3, 1, 2, 0, 3, 3, 2, 3, 2, 3, 2, 3, 2, 3, 1, 2, 0, 3, 1, 2, 0, 3, 1, 2, 0, 3, 3, 2, 3, 2, 3, 2, 3, 1, 2, 0, 3, 1, 2, 0, 3, 2, 3, 2, 3, 2, 1, 2, 0, 3, 1, 3, 2, 3, 2]\n"
     ]
    }
   ],
   "source": [
    "print(len(commands))\n",
    "print(commands)"
   ]
  },
  {
   "cell_type": "code",
   "execution_count": 152,
   "metadata": {
    "collapsed": false
   },
   "outputs": [
    {
     "name": "stdout",
     "output_type": "stream",
     "text": [
      "[1, 2, 0, 3, 1, 2, 0, 3, 1, 2, 0, 3, 1, 2, 0, 3, 1, 2, 0, 3, 3, 2, 3, 2, 3, 2, 3, 2, 3, 1, 2, 0, 3, 1, 2, 0, 3, 1, 2, 0, 3, 3, 2, 3, 2, 3, 2, 3, 1, 2, 0, 3, 1, 2, 0, 3, 2, 3, 2, 3, 2, 1, 2, 0, 3, 1, 3, 2, 3, 2]\n"
     ]
    },
    {
     "data": {
      "text/plain": [
       "{'problemId': 0,\n",
       " 'seed': 0,\n",
       " 'solution': 'baplbaplbaplbaplbapllalalalalbaplbaplbapllalalalbaplbaplalalabaplblala',\n",
       " 'tag': 'T'}"
      ]
     },
     "execution_count": 152,
     "metadata": {},
     "output_type": "execute_result"
    }
   ],
   "source": [
    "output_solution(problem_id, seed, commands, tag)"
   ]
  },
  {
   "cell_type": "code",
   "execution_count": 146,
   "metadata": {
    "collapsed": false
   },
   "outputs": [
    {
     "name": "stdout",
     "output_type": "stream",
     "text": [
      "0\n",
      "24107\n",
      "16552\n",
      "12125\n",
      "9427\n",
      "13152\n",
      "21440\n",
      "3383\n",
      "6873\n",
      "16117\n"
     ]
    }
   ],
   "source": [
    "seed = 17\n",
    "for _ in range(10):\n",
    "    seed, n = next_number(seed)\n",
    "    print(n)"
   ]
  },
  {
   "cell_type": "code",
   "execution_count": 155,
   "metadata": {
    "collapsed": false
   },
   "outputs": [
    {
     "name": "stdout",
     "output_type": "stream",
     "text": [
      "[[ 0  1 -1]\n",
      " [-1  0  1]\n",
      " [ 0  0  0]]\n",
      "[[-1  1]\n",
      " [ 0  0]\n",
      " [-1 -1]]\n"
     ]
    }
   ],
   "source": [
    "c3 = np.array([[-1, 0, 1], [0, 0, 0], [0, 1, (-1)]], dtype='int32')\n",
    "c2 = np.array([[-1, -1], [-1, 1], [0, 0]], dtype='int32')\n",
    "\n",
    "print(points2hex(c2))\n",
    "print(hex2points(c3))\n"
   ]
  },
  {
   "cell_type": "code",
   "execution_count": null,
   "metadata": {
    "collapsed": true
   },
   "outputs": [],
   "source": []
  }
 ],
 "metadata": {
  "kernelspec": {
   "display_name": "Python 3",
   "language": "python",
   "name": "python3"
  },
  "language_info": {
   "codemirror_mode": {
    "name": "ipython",
    "version": 3
   },
   "file_extension": ".py",
   "mimetype": "text/x-python",
   "name": "python",
   "nbconvert_exporter": "python",
   "pygments_lexer": "ipython3",
   "version": "3.4.3"
  }
 },
 "nbformat": 4,
 "nbformat_minor": 0
}
