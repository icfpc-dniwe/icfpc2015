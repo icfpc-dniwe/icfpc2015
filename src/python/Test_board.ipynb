{
 "cells": [
  {
   "cell_type": "code",
   "execution_count": 1,
   "metadata": {
    "collapsed": false
   },
   "outputs": [],
   "source": [
    "import numpy as np\n",
    "\n",
    "from aux.web import *\n",
    "from aux.input import *\n",
    "from aux.output import *\n",
    "from game.solution import get_solution\n",
    "\n",
    "%load_ext autoreload\n",
    "%autoreload 2"
   ]
  },
  {
   "cell_type": "code",
   "execution_count": 7,
   "metadata": {
    "collapsed": false
   },
   "outputs": [
    {
     "name": "stdout",
     "output_type": "stream",
     "text": [
      "[2, 3, 2, 3, 2, 3, 2, 3, 2, 3, 3, 2, 3, 2, 3, 2, 3, 2, 2, 3, 2, 3, 2]\n",
      "[{\"seed\": 0, \"commands\": \"alalalalallalalalaalala\", \"tag\": \"T\", \"problem_id\": 0}]\n"
     ]
    }
   ],
   "source": [
    "problem_id = 0\n",
    "tag = 'T'\n",
    "\n",
    "problem, seeds = parse_problem(load_problem(problem_id))\n",
    "solutions = []\n",
    "for seed in seeds:\n",
    "    commands = get_solution(problem, seed, '')\n",
    "    solutions += [output_solution(problem_id, seed, commands, tag)]\n",
    "s = combine_solutions(solutions)\n",
    "print(s)\n",
    "upload_solution(s)"
   ]
  },
  {
   "cell_type": "code",
   "execution_count": null,
   "metadata": {
    "collapsed": true
   },
   "outputs": [],
   "source": []
  }
 ],
 "metadata": {
  "kernelspec": {
   "display_name": "Python 3",
   "language": "python",
   "name": "python3"
  },
  "language_info": {
   "codemirror_mode": {
    "name": "ipython",
    "version": 3
   },
   "file_extension": ".py",
   "mimetype": "text/x-python",
   "name": "python",
   "nbconvert_exporter": "python",
   "pygments_lexer": "ipython3",
   "version": "3.4.3"
  }
 },
 "nbformat": 4,
 "nbformat_minor": 0
}
