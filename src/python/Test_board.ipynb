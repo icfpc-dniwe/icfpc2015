{
 "cells": [
  {
   "cell_type": "code",
   "execution_count": 3,
   "metadata": {
    "collapsed": false
   },
   "outputs": [],
   "source": [
    "from unit import *\n",
    "from board import *\n",
    "%load_ext autoreload\n",
    "%autoreload 2"
   ]
  },
  {
   "cell_type": "code",
   "execution_count": 25,
   "metadata": {
    "collapsed": false
   },
   "outputs": [
    {
     "name": "stdout",
     "output_type": "stream",
     "text": [
      "{'height': 5, 'unit': {'pivot': array([2, 0], dtype=int32), 'members': array([[1, 0],\n",
      "       [1, 1],\n",
      "       [2, 0]], dtype=int32)}, 'board': array([[0, 0, 0, 0, 0],\n",
      "       [0, 0, 0, 0, 0],\n",
      "       [0, 0, 0, 0, 0],\n",
      "       [0, 0, 0, 0, 0],\n",
      "       [0, 0, 0, 0, 0]], dtype=int32), 'width': 5}\n"
     ]
    }
   ],
   "source": [
    "members = [(0, 0), (0, 1), (1, 0)]\n",
    "pivot = (1, 0)\n",
    "unit = define_unit(members, pivot)\n",
    "board = define_board(5, 5)\n",
    "add_unit(board, unit)\n",
    "print(board)"
   ]
  },
  {
   "cell_type": "code",
   "execution_count": 26,
   "metadata": {
    "collapsed": false
   },
   "outputs": [
    {
     "name": "stdout",
     "output_type": "stream",
     "text": [
      "{'height': 5, 'unit': None, 'board': array([[0, 0, 0, 0, 0],\n",
      "       [0, 0, 0, 0, 0],\n",
      "       [0, 0, 0, 0, 0],\n",
      "       [1, 1, 0, 0, 0],\n",
      "       [0, 1, 0, 0, 0]], dtype=int32), 'width': 5}\n"
     ]
    }
   ],
   "source": [
    "seq = [0, 3, 1, 2]\n",
    "cur = 0\n",
    "while move_unit(board, seq[cur]):\n",
    "    cur += 1\n",
    "    if cur >= len(seq):\n",
    "        cur = 0\n",
    "lock_unit(board)\n",
    "print(board)"
   ]
  },
  {
   "cell_type": "code",
   "execution_count": null,
   "metadata": {
    "collapsed": true
   },
   "outputs": [],
   "source": []
  }
 ],
 "metadata": {
  "kernelspec": {
   "display_name": "Python 3",
   "language": "python",
   "name": "python3"
  },
  "language_info": {
   "codemirror_mode": {
    "name": "ipython",
    "version": 3
   },
   "file_extension": ".py",
   "mimetype": "text/x-python",
   "name": "python",
   "nbconvert_exporter": "python",
   "pygments_lexer": "ipython3",
   "version": "3.4.3"
  }
 },
 "nbformat": 4,
 "nbformat_minor": 0
}
